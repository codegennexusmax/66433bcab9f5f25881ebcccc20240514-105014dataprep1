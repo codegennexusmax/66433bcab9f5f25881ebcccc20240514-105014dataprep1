{
 "cells": [
  {
   "cell_type": "markdown",
   "id": "f1c3f0e0",
   "metadata": {},
   "source": [
    "***GENERATED CODE FOR dataprep1 PIPELINE.***"
   ]
  },
  {
   "cell_type": "markdown",
   "id": "1cd6d1be",
   "metadata": {},
   "source": [
    "***DON'T EDIT THIS CODE.***"
   ]
  },
  {
   "cell_type": "markdown",
   "id": "4a019abd",
   "metadata": {},
   "source": [
    "***CONNECTOR FUNCTIONS TO READ DATA.***"
   ]
  },
  {
   "cell_type": "code",
   "execution_count": null,
   "id": "e55275fa",
   "metadata": {},
   "outputs": [],
   "source": [
    "import os\n",
    "import datetime\n",
    "import logging\n",
    "import warnings\n",
    "warnings.filterwarnings('ignore')\n",
    "logging.basicConfig(format='%(levelname)s:%(message)s', level=logging.INFO)\n",
    "\n",
    "\n",
    "class HDFSConnector:\n",
    "\n",
    "    def fetch(spark, config):\n",
    "        ################### INPUT HADOOP HOST PORT TO CONNECT WITH ###############################\n",
    "        hdfs_server = str(os.environ['HDFS_SERVER'])\n",
    "        hdfs_port = int(os.environ['HDFS_PORT'])\n",
    "        df = spark.read.options(header='true', inferschema='true').csv(\n",
    "            f\"hdfs://{hdfs_server}:{hdfs_port}{eval(config)['url']}\", header='true')\n",
    "        display(df.limit(2).toPandas())\n",
    "        return df\n",
    "\n",
    "    def put(df, spark, config):\n",
    "        return df.write.format('csv').options(header='true' if eval(config)[\"is_header\"] == \"Use Header Line\" else 'false',\n",
    "                                              delimiter=eval(config)[\"delimiter\"]).save((\"%s %s\") % (datetime.datetime.now().strftime(\"%Y-%m-%d %H.%M.%S\")+\"_\", eval(config)['url']))\n"
   ]
  },
  {
   "cell_type": "markdown",
   "id": "d7380aa4",
   "metadata": {},
   "source": [
    "***OPERATION FUNCTIONS***"
   ]
  },
  {
   "cell_type": "code",
   "execution_count": null,
   "id": "2ab2b206",
   "metadata": {},
   "outputs": [],
   "source": [
    "import pyspark\n",
    "from dask.dataframe import from_pandas\n",
    "import json\n",
    "\n",
    "\n",
    "def DateTransform(df, functionsData, applyOn=[]):\n",
    "    import dask.dataframe as dd\n",
    "    import pandas as pd\n",
    "    import numpy as np\n",
    "\n",
    "    for functiondata in functionsData:\n",
    "        functiondata = functiondata\n",
    "\n",
    "    dfcp = df\n",
    "    dfcp1 = dfcp\n",
    "    resulttype = dfcp1.select_dtypes(include=[np.datetime64])\n",
    "    for existingdatecols in resulttype.columns:\n",
    "        dfcp[existingdatecols] = dfcp[existingdatecols].apply(\n",
    "            lambda x: x.replace(tzinfo=None))\n",
    "\n",
    "    Dateformat1 = 'YYYY-DD-MM'\n",
    "    Dateformat2 = 'YY/MM/DD'\n",
    "    Dateformat3 = 'DD/MM/YYYY'\n",
    "    Dateformat4 = 'M/D/YY'\n",
    "    NotDateFromat = [Dateformat1, Dateformat2, Dateformat3, Dateformat4]\n",
    "\n",
    "    if 'inputDateFormat' in functiondata:\n",
    "        coldetail = functiondata['column']\n",
    "        for col in coldetail:\n",
    "            colname = col['columnName']\n",
    "        inputFormat = str(functiondata['inputDateFormat'])\n",
    "        functiondata['outputDateFormat']\n",
    "        functiondata['newColumn']\n",
    "    if ('newColumnName' in functiondata):\n",
    "        if inputFormat in NotDateFromat:\n",
    "            NewDateCol = functiondata['newColumnName']\n",
    "            dfcp = dfcp.compute()\n",
    "            dfcp[NewDateCol] = dfcp[colname].apply(\n",
    "                lambda x: pd.to_datetime(x, format='%d/%m/%Y', utc=False))\n",
    "            dfcp[NewDateCol] = dfcp[NewDateCol].apply(\n",
    "                lambda x: x.strftime(\"%Y-%m-%d\"))\n",
    "            dfcp[NewDateCol] = pd.to_datetime(dfcp[NewDateCol], utc=False)\n",
    "            dfcp = dd.from_pandas(dfcp, npartitions=2)\n",
    "            dfcp[NewDateCol] = dfcp[NewDateCol].apply(\n",
    "                lambda x: x.replace(tzinfo=None))\n",
    "    elif (('newColumnName' not in functiondata) and (inputFormat in NotDateFromat)):\n",
    "        dfcp = dfcp.compute()\n",
    "        dfcp[colname] = dfcp[colname].apply(\n",
    "            lambda x: pd.to_datetime(x, format='%d/%m/%Y'))\n",
    "        dfcp[colname] = dfcp[colname].apply(lambda x: x.strftime(\"%Y-%m-%d\"))\n",
    "        dfcp[colname] = pd.to_datetime(dfcp[colname], utc=False)\n",
    "        dfcp = dd.from_pandas(dfcp, npartitions=2)\n",
    "\n",
    "    return dfcp\n",
    "\n",
    "\n",
    "def runDataCleansing(sparkDf, spark, config):\n",
    "    configObj = json.loads(config)\n",
    "    sparkDf.persist(pyspark.StorageLevel.MEMORY_AND_DISK)\n",
    "    df = from_pandas((sparkDf.toPandas()), npartitions=5)\n",
    "    functionList = configObj['functionsApplied']\n",
    "    Data_Cleansing_Methods = {\"replaceBy\": replaceValues,\n",
    "                              \"formula\": calculateFormula,\n",
    "                              \"aggregate\": aggregation,\n",
    "                              \"converttostringtype\": changeToString,\n",
    "                              \"editname\": renameColumns}\n",
    "    for function in functionList:\n",
    "        function['functionName']\n",
    "        df = Data_Cleansing_Methods[function['functionName']](df, function['functionsData'],\n",
    "                                                              function['applyOn'])\n",
    "    sparkDf = spark.createDataFrame(df.compute())\n",
    "\n",
    "    display(sparkDf.limit(2).toPandas())\n",
    "    return sparkDf\n"
   ]
  },
  {
   "cell_type": "markdown",
   "id": "0dfaff7e",
   "metadata": {},
   "source": [
    "***CONNECTOR FUNCTIONS TO WRITE DATA.***"
   ]
  },
  {
   "cell_type": "code",
   "execution_count": null,
   "id": "b1f8a113",
   "metadata": {},
   "outputs": [],
   "source": [
    "import datetime\n",
    "import requests\n",
    "import datetime\n",
    "import logging\n",
    "import warnings\n",
    "warnings.filterwarnings('ignore')\n",
    "logging.basicConfig(format='%(levelname)s:%(message)s', level=logging.INFO)\n",
    "\n",
    "\n",
    "class NumtraConnector:\n",
    "\n",
    "    def put(inStages, inStagesData, stageId, spark, config):\n",
    "        path = eval(config)['server_url']\n",
    "        baseType = eval(config)['baseType']\n",
    "        results_url = eval(config)['results_url']\n",
    "        server = eval(config)['server']\n",
    "        originalfile = eval(config)['orignalKey']\n",
    "        eval(config)['pathOnly']\n",
    "        filename = eval(config)['filename']\n",
    "        eval(config)['ser']\n",
    "        eval(config)['user']\n",
    "        eval(config)['password']\n",
    "        eval(config)['authSource']\n",
    "        eval(config)['user_id']\n",
    "        eval(config)['parent_id']\n",
    "        eval(config)['project_id']\n",
    "        time = str(int(datetime.datetime.now().timestamp()))\n",
    "\n",
    "        inStagesData[inStages[0]]\n",
    "\n",
    "        print(path)\n",
    "        print(baseType)\n",
    "        print(results_url)\n",
    "        print(server)\n",
    "        print(originalfile)\n",
    "        print(filename)\n",
    "\n",
    "        args = {\n",
    "            'url': path,\n",
    "            'baseType': baseType,\n",
    "            'originalfile': originalfile,\n",
    "            'filename': time + filename\n",
    "        }\n",
    "\n",
    "        response = requests.post(results_url, args)\n",
    "        return response\n"
   ]
  },
  {
   "cell_type": "markdown",
   "id": "471f96b3",
   "metadata": {},
   "source": [
    "***READING DATAFRAME***"
   ]
  },
  {
   "cell_type": "code",
   "execution_count": null,
   "id": "f40aeb4c",
   "metadata": {},
   "outputs": [],
   "source": [
    "############## CREATE SPARK SESSION ############################ ENTER YOUR SPARK MASTER IP AND PORT TO CONNECT TO SERVER ################\n",
    "from pyspark.sql import SparkSession\n",
    "spark = SparkSession.builder.master('local[1]').getOrCreate()\n",
    "#%run dataprep1Hooks.ipynb\n",
    "try:\n",
    "\t#sourcePreExecutionHook()\n",
    "\n",
    "\tsuperstoresaletetorgoxxx = HDFSConnector.fetch(spark, \"{'url': '/FileStore/platform/testdata/1715682990047_SuperStoreSales_Test_Org_7.csv', 'filename': 'SuperStoreSales_Test_Org_7.csv', 'delimiter': ',', 'file_type': 'Delimeted', 'dbfs_token': '', 'dbfs_domain': '', 'FilePath': '/TimeSeriesTesting/Datasets/SuperStoreSales_Test_Org_7.csv', 'viewFileName': 'SuperStoreSales_Test_Org_7.csv', 'is_header': 'Use Header Line', 'baseType': 'hdfs', 'server_url': '/nexusMax/NexusMaxPlatform/uploads/platform/', 'results_url': 'http://dnm.bfirst.ai:44040/api/read/hdfs'}\")\n",
    "\n",
    "except Exception as ex: \n",
    "\tlogging.error(ex)\n",
    "#spark.stop()\n"
   ]
  },
  {
   "cell_type": "markdown",
   "id": "7cad2116",
   "metadata": {},
   "source": [
    "***PERFORMING OPERATIONS***"
   ]
  },
  {
   "cell_type": "code",
   "execution_count": null,
   "id": "f935c83a",
   "metadata": {},
   "outputs": [],
   "source": [
    "#%run dataprep1Hooks.ipynb\n",
    "try:\n",
    "\t#operationPreExecutionHook()\n",
    "\n",
    "datapreparation = runDataCleansing(superstoresaletetorgoxxx,spark,json.dumps( {\"url\": \"/FileStore/platform/testdata/1715682990047_SuperStoreSales_Test_Org_7.csv\", \"source_attributes\": {}, \"DataPrepFile\": \"/FileStore/platform/testdata/1715682990047_SuperStoreSales_Test_Org_7.csv\", \"data_source\": \"platfiles\", \"startListenerOnly\": 1, \"dateColumnNames\": [\"Order Date\"], \"FilePath\": \"/FileStore/platform/extra/66433c7cb9f5f25881ebcd4a1715683708/0part.csv\", \"requestRatio\": 7.0, \"totalRows\": 3258, \"BasicStats\": {\"missingValues\": 0.0, \"numberOfColumns\": 13, \"numberOfRows\": 3258, \"duplicateRowCount\": 0, \"stats\": [{\"column\": \"Row ID\", \"alias\": \"Row ID\", \"generated\": 0, \"type\": \"numeric\", \"max\": 9791, \"min\": 13, \"mean\": 5007.294966236956, \"missing\": 0.0, \"stddev\": 2771.09, \"outliers\": [], \"validation\": []}, {\"column\": \"Order Date\", \"alias\": \"Order Date\", \"generated\": 0, \"type\": \"date\", \"max\": \"20181230\", \"min\": \"201811\", \"mean\": \"\", \"missing\": 0.0, \"stddev\": \"\", \"outliers\": [], \"validation\": []}, {\"column\": \"Ship Mode\", \"alias\": \"Ship Mode\", \"generated\": 0, \"type\": \"String\", \"max\": \"Standard Class\", \"min\": \"First Class\", \"mean\": \"\", \"missing\": 0.0, \"stddev\": \"\", \"outliers\": [], \"validation\": []}, {\"column\": \"Customer Name\", \"alias\": \"Customer Name\", \"generated\": 0, \"type\": \"String\", \"max\": \"Zuschuss Donatelli\", \"min\": \"Aaron Hawkins\", \"mean\": \"\", \"missing\": 0.0, \"stddev\": \"\", \"outliers\": [], \"validation\": []}, {\"column\": \"Segment\", \"alias\": \"Segment\", \"generated\": 0, \"type\": \"String\", \"max\": \"Home Office\", \"min\": \"Consumer\", \"mean\": \"\", \"missing\": 0.0, \"stddev\": \"\", \"outliers\": [], \"validation\": []}, {\"column\": \"Country\", \"alias\": \"Country\", \"generated\": 0, \"type\": \"String\", \"max\": \"United States\", \"min\": \"United States\", \"mean\": \"\", \"missing\": 0.0, \"stddev\": \"\", \"outliers\": [], \"validation\": []}, {\"column\": \"City\", \"alias\": \"City\", \"generated\": 0, \"type\": \"String\", \"max\": \"Yuma\", \"min\": \"Aberdeen\", \"mean\": \"\", \"missing\": 0.0, \"stddev\": \"\", \"outliers\": [], \"validation\": []}, {\"column\": \"State\", \"alias\": \"State\", \"generated\": 0, \"type\": \"String\", \"max\": \"Wisconsin\", \"min\": \"Alabama\", \"mean\": \"\", \"missing\": 0.0, \"stddev\": \"\", \"outliers\": [], \"validation\": []}, {\"column\": \"Postal Code\", \"alias\": \"Postal Code\", \"generated\": 0, \"type\": \"numeric\", \"max\": 99301, \"min\": 0, \"mean\": 56235.02148557397, \"missing\": 0.0, \"stddev\": 32062.74, \"outliers\": [], \"validation\": []}, {\"column\": \"Region\", \"alias\": \"Region\", \"generated\": 0, \"type\": \"String\", \"max\": \"West\", \"min\": \"Central\", \"mean\": \"\", \"missing\": 0.0, \"stddev\": \"\", \"outliers\": [], \"validation\": []}, {\"column\": \"Category\", \"alias\": \"Category\", \"generated\": 0, \"type\": \"String\", \"max\": \"Technology\", \"min\": \"Furniture\", \"mean\": \"\", \"missing\": 0.0, \"stddev\": \"\", \"outliers\": [], \"validation\": []}, {\"column\": \"Sub-Category\", \"alias\": \"Sub-Category\", \"generated\": 0, \"type\": \"String\", \"max\": \"Tables\", \"min\": \"Accessories\", \"mean\": \"\", \"missing\": 0.0, \"stddev\": \"\", \"outliers\": [], \"validation\": []}, {\"column\": \"Sales\", \"alias\": \"Sales\", \"generated\": 0, \"type\": \"real\", \"max\": 13999.96, \"min\": 0.444, \"mean\": 221.6243152854512, \"missing\": 0.0, \"stddev\": 587.44, \"outliers\": [474.43, 454.56, 482.664, 4799.984, 933.262, 2803.92, 443.92, 1439.982, 498.26, 1704.89, 451.152, 2665.62, 470.376, 897.15, 541.24, 629.64, 695.7, 913.43, 479.94, 441.96, 1282.41, 1577.94, 1199.8, 1928.78, 2314.116, 1575.14, 590.352, 452.55, 975.92, 2249.91, 859.2, 979.95, 559.62, 701.96, 2479.96, 1159.056, 508.704, 906.68, 631.176, 2022.272, 1049.44, 763.44, 1099.5, 503.96, 2395.2, 1687.8, 597.132, 545.85, 1793.98, 1673.184, 959.984, 486.368, 521.96, 571.44, 825.174, 1478.272, 1322.352, 487.984, 7999.98, 523.764, 1359.96, 649.0, 1640.7, 470.376, 5199.96, 492.768, 627.168, 623.4648, 772.68, 824.95, 499.584, 2036.86, 449.568, 3059.982, 620.6145, 617.976, 1458.65, 476.8, 683.988, 527.92, 707.88, 1473.1, 455.712, 478.08, 1577.94, 1115.91, 580.672, 761.544, 1889.99, 892.98, 647.84, 2591.56, 2690.97, 3359.952, 1497.666, 786.48, 765.625, 592.74, 1199.976, 1004.024, 1336.829, 1089.75, 459.92, 479.984, 501.81, 478.24, 720.76, 526.45, 1931.958, 628.81, 652.45, 826.62, 1633.14, 544.38, 523.392, 499.168, 1399.98, 872.94, 896.328, 444.768, 933.408, 514.165, 1347.52, 1454.49, 762.594, 899.136, 931.176, 1669.6, 599.97, 963.136, 776.85, 895.92, 1287.45, 477.51, 1471.96, 2054.272, 512.19, 1158.12, 520.464, 721.875, 760.98, 858.24, 452.94, 1779.9, 542.94, 673.344, 2154.9, 791.88, 595.0, 671.984, 540.048, 4164.05, 1504.52, 904.9, 5083.96, 652.995, 720.064, 629.95, 2404.704, 563.024, 799.96, 959.984, 465.16, 1332.496, 895.92, 914.97, 587.97, 530.34, 458.43, 470.302, 1614.582, 1199.98, 526.582, 974.988, 1399.93, 899.43, 539.97, 470.376, 1889.946, 1079.85, 589.41, 942.784, 1924.16, 510.24, 698.352, 2239.936, 872.94, 664.146, 1801.632, 782.94, 529.9, 512.96, 2357.488, 5443.96, 547.3, 599.985, 1875.258, 1919.976, 899.982, 811.28, 579.51, 600.558, 659.976, 445.44, 477.24, 479.952, 1212.96, 538.194, 10499.97, 1247.64, 504.9, 544.38, 481.32, 455.97, 899.43, 480.96, 2549.985, 3404.5, 1194.165, 479.984, 895.92, 462.564, 4416.174, 2518.29, 540.57, 1292.94, 723.92, 1415.76, 480.0, 1141.938, 1704.56, 537.544, 706.86, 917.9235, 801.6, 599.97, 843.9, 1496.16, 2793.528, 1000.02, 542.94, 887.271, 1633.188, 718.116, 1525.188, 821.88, 2504.74, 1665.62, 1245.86, 657.504, 697.16, 681.408, 1628.82, 760.116, 457.485, 471.92, 665.408, 1259.97, 569.99, 704.76, 518.272, 1123.128, 503.96, 735.98, 2888.127, 1299.66, 2254.41, 619.95, 1439.92, 478.48, 909.12, 683.952, 659.976, 1039.992, 1000.02, 725.84, 1805.88, 908.82, 520.05, 447.84, 1626.192, 568.728, 866.4, 572.58, 4305.552, 2999.95, 1126.02, 11199.968, 2399.6, 579.136, 629.958, 474.95, 1586.69, 607.52, 839.43, 695.16, 934.956, 675.06, 487.96, 526.344, 691.96, 1071.0, 4663.736, 637.896, 863.88, 823.96, 494.97, 13999.96, 4367.896, 594.816, 517.405, 977.292, 1443.96, 2879.952, 479.97, 1003.62, 842.376, 1319.8, 469.99, 552.0, 2399.96, 646.272, 520.464, 655.9, 603.92, 1169.694, 859.2, 506.28, 501.81, 723.92, 853.93, 701.96, 629.1, 479.984, 470.376, 1526.56, 663.92, 871.4, 488.646, 2939.93, 1879.96, 828.6, 979.95, 750.68, 889.536, 892.224, 2399.96, 526.45, 545.916, 543.92, 713.88, 1649.95, 931.176, 556.665, 497.94, 1023.332, 600.558, 539.97, 477.3, 477.15, 1287.45, 543.92, 1488.424, 1119.888, 879.984, 841.568, 449.91, 516.488, 1007.232, 2065.32, 1979.89, 1049.2, 725.84, 532.72, 795.48, 751.984, 1145.6, 1137.75, 1207.84, 1048.35, 465.16, 638.82, 1295.78, 895.92, 461.97, 604.768, 2003.168, 614.272, 442.4, 1702.12, 1242.9, 1079.316, 546.06, 1781.682, 663.936, 677.58, 1001.584, 569.058, 1085.42, 1044.63, 508.768, 677.58, 671.93, 2999.95, 849.95, 569.568, 689.408, 638.73, 659.9], \"validation\": []}]}, \"predictionPowerScore\": [{\"Category\": 1.0, \"City\": 0.0304845083, \"Country\": 9.697e-07, \"Customer Name\": 0.0148469768, \"Order Date\": 0.0308708928, \"Postal Code\": 0.0372660506, \"Region\": 9.697e-07, \"Row ID\": 0.0, \"Sales\": 0.2557361312, \"Segment\": 9.697e-07, \"Ship Mode\": 9.697e-07, \"State\": 7.56586e-05, \"Sub-Category\": 1.0}, {\"Category\": 0.0, \"City\": 1.0, \"Country\": 0.0, \"Customer Name\": 0.3637811578, \"Order Date\": 0.2004674899, \"Postal Code\": 0.9571994145, \"Region\": 0.050696672, \"Row ID\": 0.6017244286, \"Sales\": 0.0027248414, \"Segment\": 0.0, \"Ship Mode\": 0.0, \"State\": 0.3454789709, \"Sub-Category\": 0.0023255633}, {\"Category\": 0.0, \"City\": 0.0, \"Country\": 1.0, \"Customer Name\": 0.0, \"Order Date\": 0.0, \"Postal Code\": 0.0, \"Region\": 0.0, \"Row ID\": 0.0, \"Sales\": 0.0, \"Segment\": 0.0, \"Ship Mode\": 0.0, \"State\": 0.0, \"Sub-Category\": 0.0}, {\"Category\": 0.0, \"City\": 0.1720317298, \"Country\": 0.0, \"Customer Name\": 1.0, \"Order Date\": 0.1861656304, \"Postal Code\": 0.2076827646, \"Region\": 0.0, \"Row ID\": 0.6061512247, \"Sales\": 0.0012039173, \"Segment\": 0.0, \"Ship Mode\": 0.0, \"State\": 0.0258117203, \"Sub-Category\": 0.0}, {\"Category\": 0.0, \"City\": 0.0, \"Country\": 0.0, \"Customer Name\": 0.0, \"Order Date\": 1.0, \"Postal Code\": 0.0, \"Region\": 0.0, \"Row ID\": 0.0, \"Sales\": 0.0, \"Segment\": 0.0, \"Ship Mode\": 0.0, \"State\": 0.0, \"Sub-Category\": 0.0}, {\"Category\": 0.0, \"City\": 0.8447292954, \"Country\": 0.0, \"Customer Name\": 0.2329344714, \"Order Date\": 0.0987977951, \"Postal Code\": 1.0, \"Region\": 0.7411344313, \"Row ID\": 0.46323884, \"Sales\": 0.0, \"Segment\": 0.0, \"Ship Mode\": 0.0, \"State\": 0.9747991044, \"Sub-Category\": 0.0}, {\"Category\": 0.0, \"City\": 0.8580536663, \"Country\": 0.0, \"Customer Name\": 0.3834363029, \"Order Date\": 0.2399494614, \"Postal Code\": 0.9995858315, \"Region\": 1.0, \"Row ID\": 0.5785508942, \"Sales\": 0.0154398346, \"Segment\": 0.0, \"Ship Mode\": 0.0, \"State\": 1.0, \"Sub-Category\": 0.0}, {\"Category\": 0.0, \"City\": 0.108521442, \"Country\": 0.0, \"Customer Name\": 0.2453743643, \"Order Date\": 0.0876877004, \"Postal Code\": 0.1178274083, \"Region\": 0.0019560808, \"Row ID\": 1.0, \"Sales\": 0.0, \"Segment\": 0.0016814683, \"Ship Mode\": 0.0009327664, \"State\": 0.023455476, \"Sub-Category\": 0.0}, {\"Category\": 0.0, \"City\": 0.0, \"Country\": 0.0, \"Customer Name\": 0.0, \"Order Date\": 0.0, \"Postal Code\": 0.0, \"Region\": 0.0, \"Row ID\": 0.0, \"Sales\": 1.0, \"Segment\": 0.0, \"Ship Mode\": 0.0, \"State\": 0.0, \"Sub-Category\": 0.0}, {\"Category\": 0.0, \"City\": 0.1883121297, \"Country\": 0.0, \"Customer Name\": 0.967611477, \"Order Date\": 0.2362259754, \"Postal Code\": 0.2769380478, \"Region\": 0.0, \"Row ID\": 0.6082922718, \"Sales\": 0.0, \"Segment\": 1.0, \"Ship Mode\": 0.0, \"State\": 0.0276982431, \"Sub-Category\": 0.0}, {\"Category\": 0.0, \"City\": 0.2222383583, \"Country\": 0.0, \"Customer Name\": 0.437106263, \"Order Date\": 0.2395814474, \"Postal Code\": 0.2767095723, \"Region\": 0.0, \"Row ID\": 0.5726981141, \"Sales\": 0.0, \"Segment\": 0.0, \"Ship Mode\": 1.0, \"State\": 0.086742249, \"Sub-Category\": 0.0}, {\"Category\": 0.0, \"City\": 0.8500074224, \"Country\": 0.0, \"Customer Name\": 0.3739842078, \"Order Date\": 0.2159642989, \"Postal Code\": 0.996329085, \"Region\": 0.2263259709, \"Row ID\": 0.603388225, \"Sales\": 0.026651081, \"Segment\": 0.0, \"Ship Mode\": 0.0, \"State\": 1.0, \"Sub-Category\": 0.0}, {\"Category\": 0.0924697349, \"City\": 0.0, \"Country\": 0.0, \"Customer Name\": 0.0, \"Order Date\": 0.006013772, \"Postal Code\": 0.0, \"Region\": 0.0, \"Row ID\": 0.0064963, \"Sales\": 0.1832964774, \"Segment\": 0.0, \"Ship Mode\": 0.0, \"State\": 0.0, \"Sub-Category\": 1.0}], \"HasBasicStats\": 1, \"functionsApplied\": [{\"functionName\": \"transformDate\", \"applyOn\": [{\"columnName\": \"Order Date\", \"type\": \"date\", \"min\": \"201811\", \"max\": \"20181230\", \"mean\": \"-\"}], \"functionsData\": [{\"column\": [{\"columnName\": \"Order Date\", \"type\": \"date\", \"min\": \"201811\", \"max\": \"20181230\", \"mean\": \"-\"}], \"inputDateFormat\": \"MM/DD/YYYY\", \"outputDateFormat\": \"YYYY-MM-DD\", \"newColumn\": \"True\", \"newColumnName\": \"OrderDate\"}]}], \"functionChanges\": [{\"columnName\": \"Order Date\", \"functionName\": \"transformDate\", \"Type\": \"date\", \"Parameters\": [{\"column\": [{\"columnName\": \"Order Date\", \"type\": \"date\", \"min\": \"201811\", \"max\": \"20181230\", \"mean\": \"-\"}], \"inputDateFormat\": \"MM/DD/YYYY\", \"outputDateFormat\": \"YYYY-MM-DD\", \"newColumn\": \"True\", \"newColumnName\": \"OrderDate\"}]}], \"fileheader\": [{\"field\": \"Row ID\", \"alias\": \"Row ID\", \"generated\": 0, \"position\": 1, \"type\": \"numeric\"}, {\"field\": \"Order Date\", \"alias\": \"Order Date\", \"generated\": 0, \"position\": 2, \"type\": \"date\"}, {\"field\": \"Ship Mode\", \"alias\": \"Ship Mode\", \"generated\": 0, \"position\": 3, \"type\": \"String\"}, {\"field\": \"Customer Name\", \"alias\": \"Customer Name\", \"generated\": 0, \"position\": 4, \"type\": \"String\"}, {\"field\": \"Segment\", \"alias\": \"Segment\", \"generated\": 0, \"position\": 5, \"type\": \"String\"}, {\"field\": \"Country\", \"alias\": \"Country\", \"generated\": 0, \"position\": 6, \"type\": \"String\"}, {\"field\": \"City\", \"alias\": \"City\", \"generated\": 0, \"position\": 7, \"type\": \"String\"}, {\"field\": \"State\", \"alias\": \"State\", \"generated\": 0, \"position\": 8, \"type\": \"String\"}, {\"field\": \"Postal Code\", \"alias\": \"Postal Code\", \"generated\": 0, \"position\": 9, \"type\": \"numeric\"}, {\"field\": \"Region\", \"alias\": \"Region\", \"generated\": 0, \"position\": 10, \"type\": \"String\"}, {\"field\": \"Category\", \"alias\": \"Category\", \"generated\": 0, \"position\": 11, \"type\": \"String\"}, {\"field\": \"Sub-Category\", \"alias\": \"Sub-Category\", \"generated\": 0, \"position\": 12, \"type\": \"String\"}, {\"field\": \"Sales\", \"alias\": \"Sales\", \"generated\": 0, \"position\": 13, \"type\": \"real\"}]}))\n",
    "\t#operationPostExecutionHook(datapreparation)\n",
    "\n",
    "except Exception as ex: \n",
    "\tlogging.error(ex)\n"
   ]
  },
  {
   "cell_type": "markdown",
   "id": "716df411",
   "metadata": {},
   "source": [
    "***WRITING DATAFRAME***"
   ]
  },
  {
   "cell_type": "code",
   "execution_count": null,
   "id": "2d1e128f",
   "metadata": {},
   "outputs": [],
   "source": [
    "#%run dataprep1Hooks.ipynb\n",
    "try:\n",
    "\t#sinkPreExecutionHook()\n",
    "\n",
    "\tdatasetsoutput = NumtraConnector.fetch(spark, \"{'samplefile': '/FileStore/platform/sampleData/66433c71b9f5f25881ebcd40/part-00000-feaacfbd-b0ed-4311-81cf-25933bf43e44-c000.csv', 'samplecount': 322, 'originalcount': 3258, 'orignalKey': None, 'pathOnly': '/TimeSeriesTesting/Datasets', 'project_id': '66433e34b9f5f25881ebcef6', 'parent_id': '66433e34b9f5f25881ebcef6', 'original_schema': [{'checked': True, 'inherited': True, 'is_categorical': False, 'bad_values': '', 'nullable': 'true', 'field': 'Row ID', 'alias': 'Row ID', 'type': 'numeric', 'position': '0'}, {'checked': True, 'inherited': True, 'is_categorical': False, 'bad_values': '', 'nullable': 'true', 'field': 'Order Date', 'alias': 'Order Date', 'type': 'date', 'position': '1'}, {'checked': True, 'inherited': True, 'is_categorical': False, 'bad_values': '', 'nullable': 'true', 'field': 'Ship Mode', 'alias': 'Ship Mode', 'type': 'String', 'position': '2'}, {'checked': True, 'inherited': True, 'is_categorical': False, 'bad_values': '', 'nullable': 'true', 'field': 'Customer Name', 'alias': 'Customer Name', 'type': 'String', 'position': '3'}, {'checked': True, 'inherited': True, 'is_categorical': False, 'bad_values': '', 'nullable': 'true', 'field': 'Segment', 'alias': 'Segment', 'type': 'String', 'position': '4'}, {'checked': True, 'inherited': True, 'is_categorical': False, 'bad_values': '', 'nullable': 'true', 'field': 'Country', 'alias': 'Country', 'type': 'String', 'position': '5'}, {'checked': True, 'inherited': True, 'is_categorical': False, 'bad_values': '', 'nullable': 'true', 'field': 'City', 'alias': 'City', 'type': 'String', 'position': '6'}, {'checked': True, 'inherited': True, 'is_categorical': False, 'bad_values': '', 'nullable': 'true', 'field': 'State', 'alias': 'State', 'type': 'String', 'position': '7'}, {'checked': True, 'inherited': True, 'is_categorical': False, 'bad_values': '', 'nullable': 'true', 'field': 'Postal Code', 'alias': 'Postal Code', 'type': 'numeric', 'position': '8'}, {'checked': True, 'inherited': True, 'is_categorical': False, 'bad_values': '', 'nullable': 'true', 'field': 'Region', 'alias': 'Region', 'type': 'String', 'position': '9'}, {'checked': True, 'inherited': True, 'is_categorical': False, 'bad_values': '', 'nullable': 'true', 'field': 'Category', 'alias': 'Category', 'type': 'String', 'position': '10'}, {'checked': True, 'inherited': True, 'is_categorical': False, 'bad_values': '', 'nullable': 'true', 'field': 'Sub-Category', 'alias': 'Sub-Category', 'type': 'String', 'position': '11'}, {'checked': True, 'inherited': True, 'is_categorical': False, 'bad_values': '', 'nullable': 'true', 'field': 'Sales', 'alias': 'Sales', 'type': 'real', 'position': '12'}], 'actual_schema': [{'checked': True, 'inherited': True, 'is_categorical': False, 'bad_values': '', 'nullable': 'true', 'field': 'Row ID', 'alias': 'Row ID', 'type': 'numeric', 'position': '0'}, {'checked': True, 'inherited': True, 'is_categorical': False, 'bad_values': '', 'nullable': 'true', 'field': 'Order Date', 'alias': 'Order Date', 'type': 'date', 'position': '1'}, {'checked': True, 'inherited': True, 'is_categorical': False, 'bad_values': '', 'nullable': 'true', 'field': 'Ship Mode', 'alias': 'Ship Mode', 'type': 'String', 'position': '2'}, {'checked': True, 'inherited': True, 'is_categorical': False, 'bad_values': '', 'nullable': 'true', 'field': 'Customer Name', 'alias': 'Customer Name', 'type': 'String', 'position': '3'}, {'checked': True, 'inherited': True, 'is_categorical': False, 'bad_values': '', 'nullable': 'true', 'field': 'Segment', 'alias': 'Segment', 'type': 'String', 'position': '4'}, {'checked': True, 'inherited': True, 'is_categorical': False, 'bad_values': '', 'nullable': 'true', 'field': 'Country', 'alias': 'Country', 'type': 'String', 'position': '5'}, {'checked': True, 'inherited': True, 'is_categorical': False, 'bad_values': '', 'nullable': 'true', 'field': 'City', 'alias': 'City', 'type': 'String', 'position': '6'}, {'checked': True, 'inherited': True, 'is_categorical': False, 'bad_values': '', 'nullable': 'true', 'field': 'State', 'alias': 'State', 'type': 'String', 'position': '7'}, {'checked': True, 'inherited': True, 'is_categorical': False, 'bad_values': '', 'nullable': 'true', 'field': 'Postal Code', 'alias': 'Postal Code', 'type': 'numeric', 'position': '8'}, {'checked': True, 'inherited': True, 'is_categorical': False, 'bad_values': '', 'nullable': 'true', 'field': 'Region', 'alias': 'Region', 'type': 'String', 'position': '9'}, {'checked': True, 'inherited': True, 'is_categorical': False, 'bad_values': '', 'nullable': 'true', 'field': 'Category', 'alias': 'Category', 'type': 'String', 'position': '10'}, {'checked': True, 'inherited': True, 'is_categorical': False, 'bad_values': '', 'nullable': 'true', 'field': 'Sub-Category', 'alias': 'Sub-Category', 'type': 'String', 'position': '11'}, {'checked': True, 'inherited': True, 'is_categorical': False, 'bad_values': '', 'nullable': 'true', 'field': 'Sales', 'alias': 'Sales', 'type': 'real', 'position': '12'}], 'server': 'https://dnm.bfirst.ai:443', 'server_url': '/nexusMax/NexusMaxPlatform/uploads/platform/', 'delimiter': ',', 'file_type': 'Delimeted', 'filename': 'NewDateColumn.csv', 'token': '', 'domain': '', 'is_header': 'Use Header Line', 'url': '/FileStore/platform/uploadedSourceFiles/part-00000-25fb8971-58f1-493e-8a4e-8cf008f0a64c-c000.csv', 'results_url': 'http://dnm.bfirst.ai:44040/api/read/hdfs'}\")\n",
    "\n",
    "except Exception as ex: \n",
    "\tlogging.error(ex)\n"
   ]
  }
 ],
 "metadata": {},
 "nbformat": 4,
 "nbformat_minor": 5
}
